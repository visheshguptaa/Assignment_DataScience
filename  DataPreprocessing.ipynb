{
 "cells": [
  {
   "cell_type": "code",
   "execution_count": null,
   "id": "1bfac071-92aa-4876-b504-b314ddaa2ee0",
   "metadata": {},
   "outputs": [],
   "source": [
    "# Fill missing values\n",
    "data.fillna(data.median(), inplace=True)\n",
    "\n",
    "# Feature engineering\n",
    "data['transaction_hour'] = data['transaction_date'].dt.hour\n",
    "data['transaction_day_of_week'] = data['transaction_date'].dt.dayofweek\n",
    "\n",
    "# Aggregating customer-level features\n",
    "customer_features = data.groupby('customer_id').agg({\n",
    "    'transaction_amount': ['mean', 'sum', 'count'],\n",
    "    'fraud': ['sum', 'mean']\n",
    "}).reset_index()\n",
    "\n",
    "customer_features.columns = ['customer_id', 'customer_avg_transaction_amount', 'customer_total_transaction_amount', 'customer_transaction_count', 'customer_fraud_count', 'customer_fraud_rate']\n",
    "\n",
    "data = pd.merge(data, customer_features, on='customer_id', how='left')\n",
    "\n",
    "data = pd.get_dummies(data, columns=['merchant', 'transaction_category'], drop_first=True)\n",
    "\n",
    "# Dropping unnecessary columns\n",
    "data.drop(['transaction_date'], axis=1, inplace=True)\n",
    "\n",
    "# Feature scaling\n",
    "from sklearn.preprocessing import StandardScaler\n",
    "scaler = StandardScaler()\n",
    "data[['transaction_amount', 'customer_avg_transaction_amount', 'customer_total_transaction_amount']] = scaler.fit_transform(data[['transaction_amount', 'customer_avg_transaction_amount', 'customer_total_transaction_amount']])\n",
    "\n",
    "X = data.drop(['fraud'], axis=1)\n",
    "y = data['fraud']\n"
   ]
  }
 ],
 "metadata": {
  "kernelspec": {
   "display_name": "Python 3 (ipykernel)",
   "language": "python",
   "name": "python3"
  },
  "language_info": {
   "codemirror_mode": {
    "name": "ipython",
    "version": 3
   },
   "file_extension": ".py",
   "mimetype": "text/x-python",
   "name": "python",
   "nbconvert_exporter": "python",
   "pygments_lexer": "ipython3",
   "version": "3.12.4"
  }
 },
 "nbformat": 4,
 "nbformat_minor": 5
}
