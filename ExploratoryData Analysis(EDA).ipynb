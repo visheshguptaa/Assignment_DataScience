{
 "cells": [
  {
   "cell_type": "code",
   "execution_count": null,
   "id": "c0de5b58-7266-4c02-81bc-137879f91040",
   "metadata": {},
   "outputs": [],
   "source": [
    "import pandas as pd\n",
    "import numpy as np\n",
    "import seaborn as sns\n",
    "import matplotlib.pyplot as plt\n",
    "\n",
    "data = pd.read_csv('credit_card_transactions.csv')\n",
    "\n",
    "print(data.info())\n",
    "print(data.describe())\n",
    "\n",
    "print(data.isnull().sum())\n",
    "\n",
    "# Distribution of the target variable\n",
    "sns.countplot(data['fraud'])\n",
    "plt.title('Fraud vs Legitimate Transactions')\n",
    "plt.show()\n",
    "\n",
    "# Distribution of transaction amount\n",
    "sns.histplot(data['transaction_amount'], kde=True)\n",
    "plt.title('Distribution of Transaction Amounts')\n",
    "plt.show()\n",
    "\n",
    "# Distribution of transaction time\n",
    "data['transaction_date'] = pd.to_datetime(data['transaction_date'])\n",
    "data['transaction_hour'] = data['transaction_date'].dt.hour\n",
    "sns.countplot(data['transaction_hour'])\n",
    "plt.title('Transaction Frequency by Hour')\n",
    "plt.show()\n",
    "\n",
    "# Fraud rate by merchant\n",
    "fraud_by_merchant = data.groupby('merchant')['fraud'].mean().sort_values(ascending=False)\n",
    "sns.barplot(x=fraud_by_merchant.index, y=fraud_by_merchant.values)\n",
    "plt.title('Fraud Rate by Merchant')\n",
    "plt.xticks(rotation=90)\n",
    "plt.show()\n",
    "\n",
    "# Correlation heatmap\n",
    "corr = data.corr()\n",
    "sns.heatmap(corr, annot=True, cmap='coolwarm')\n",
    "plt.title('Correlation Matrix')\n",
    "plt.show()\n"
   ]
  }
 ],
 "metadata": {
  "kernelspec": {
   "display_name": "Python 3 (ipykernel)",
   "language": "python",
   "name": "python3"
  },
  "language_info": {
   "codemirror_mode": {
    "name": "ipython",
    "version": 3
   },
   "file_extension": ".py",
   "mimetype": "text/x-python",
   "name": "python",
   "nbconvert_exporter": "python",
   "pygments_lexer": "ipython3",
   "version": "3.12.4"
  }
 },
 "nbformat": 4,
 "nbformat_minor": 5
}
